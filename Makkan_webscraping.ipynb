{
  "nbformat": 4,
  "nbformat_minor": 0,
  "metadata": {
    "colab": {
      "name": "Makkan-webscraping.ipynb",
      "provenance": [],
      "authorship_tag": "ABX9TyMYc7Td6nO7Wch5HIGE6V4H",
      "include_colab_link": true
    },
    "kernelspec": {
      "name": "python3",
      "display_name": "Python 3"
    },
    "language_info": {
      "name": "python"
    }
  },
  "cells": [
    {
      "cell_type": "markdown",
      "metadata": {
        "id": "view-in-github",
        "colab_type": "text"
      },
      "source": [
        "<a href=\"https://colab.research.google.com/github/Raisaraheem/Makkan.com-webscraping/blob/main/Makkan_webscraping.ipynb\" target=\"_parent\"><img src=\"https://colab.research.google.com/assets/colab-badge.svg\" alt=\"Open In Colab\"/></a>"
      ]
    },
    {
      "cell_type": "code",
      "metadata": {
        "id": "ZnD5kbbfTSgi"
      },
      "source": [
        "#import all the packages\n",
        "\n",
        "import requests\n",
        "from bs4 import BeautifulSoup\n",
        "import pandas as pd"
      ],
      "execution_count": null,
      "outputs": []
    },
    {
      "cell_type": "code",
      "metadata": {
        "colab": {
          "base_uri": "https://localhost:8080/"
        },
        "id": "1faGVtPSUeZ-",
        "outputId": "c87a346d-da88-4f51-bee4-122343fdde33"
      },
      "source": [
        "url = 'https://www.makaan.com/hyderabad-residential-property/buy-property-in-hyderabad-city'\n",
        "req = requests.get(url)\n",
        "print(req)\n",
        "soup = BeautifulSoup(req.text,'html')\n",
        "#print(soup.prettify())"
      ],
      "execution_count": null,
      "outputs": [
        {
          "output_type": "stream",
          "text": [
            "<Response [200]>\n"
          ],
          "name": "stdout"
        }
      ]
    },
    {
      "cell_type": "code",
      "metadata": {
        "colab": {
          "base_uri": "https://localhost:8080/"
        },
        "id": "i-7hbtJzUebj",
        "outputId": "5e813d6b-106d-4182-ee2f-7d3fa1dc8a1d"
      },
      "source": [
        "#find and findall\n",
        "soup.find('span')   # find will give us the first span tag"
      ],
      "execution_count": null,
      "outputs": [
        {
          "output_type": "execute_result",
          "data": {
            "text/plain": [
              "<span data-target=\"categoryPlaceholder\">buy</span>"
            ]
          },
          "metadata": {
            "tags": []
          },
          "execution_count": 3
        }
      ]
    },
    {
      "cell_type": "code",
      "metadata": {
        "colab": {
          "base_uri": "https://localhost:8080/",
          "height": 35
        },
        "id": "kpHXrzOZUefA",
        "outputId": "efefbb1d-c8a3-4748-b62c-be62e09c6cd8"
      },
      "source": [
        "soup.find('span',attrs={'class' : 'seller-type'}).text  #find owner info"
      ],
      "execution_count": null,
      "outputs": [
        {
          "output_type": "execute_result",
          "data": {
            "application/vnd.google.colaboratory.intrinsic+json": {
              "type": "string"
            },
            "text/plain": [
              "'BUILDER'"
            ]
          },
          "metadata": {
            "tags": []
          },
          "execution_count": 4
        }
      ]
    },
    {
      "cell_type": "code",
      "metadata": {
        "id": "dg4rd0XAUegc"
      },
      "source": [
        "soup.findAll('span',attrs={'class' : 'val'})"
      ],
      "execution_count": null,
      "outputs": []
    },
    {
      "cell_type": "code",
      "metadata": {
        "colab": {
          "base_uri": "https://localhost:8080/",
          "height": 35
        },
        "id": "zv9dKoHVUej3",
        "outputId": "cfd0f13e-3948-4d1b-b2e7-56393d324fc0"
      },
      "source": [
        "soup.find('div',attrs={'class': 'title-line '}).strong.span.text   #find bhk"
      ],
      "execution_count": null,
      "outputs": [
        {
          "output_type": "execute_result",
          "data": {
            "application/vnd.google.colaboratory.intrinsic+json": {
              "type": "string"
            },
            "text/plain": [
              "'4 '"
            ]
          },
          "metadata": {
            "tags": []
          },
          "execution_count": 6
        }
      ]
    },
    {
      "cell_type": "code",
      "metadata": {
        "colab": {
          "base_uri": "https://localhost:8080/",
          "height": 35
        },
        "id": "y85hgcU0Uell",
        "outputId": "7c2730e0-1962-43b8-d22d-03867dd66f8d"
      },
      "source": [
        "soup.find('div',attrs={'data-type':'price-link'}).text   # find price"
      ],
      "execution_count": null,
      "outputs": [
        {
          "output_type": "execute_result",
          "data": {
            "application/vnd.google.colaboratory.intrinsic+json": {
              "type": "string"
            },
            "text/plain": [
              "' 4.68 Cr'"
            ]
          },
          "metadata": {
            "tags": []
          },
          "execution_count": 7
        }
      ]
    },
    {
      "cell_type": "code",
      "metadata": {
        "colab": {
          "base_uri": "https://localhost:8080/",
          "height": 35
        },
        "id": "RXDLQ5N2UepP",
        "outputId": "187e36eb-535f-4c1f-b008-3ed8a6c3ecef"
      },
      "source": [
        "soup.find('span',attrs={'itemprop':'addressLocality'}).text   # locality"
      ],
      "execution_count": null,
      "outputs": [
        {
          "output_type": "execute_result",
          "data": {
            "application/vnd.google.colaboratory.intrinsic+json": {
              "type": "string"
            },
            "text/plain": [
              "'Narsingi'"
            ]
          },
          "metadata": {
            "tags": []
          },
          "execution_count": 8
        }
      ]
    },
    {
      "cell_type": "code",
      "metadata": {
        "colab": {
          "base_uri": "https://localhost:8080/",
          "height": 35
        },
        "id": "c24_vuALUeqb",
        "outputId": "a3762907-e842-40dc-fd92-c9f5e3c3be26"
      },
      "source": [
        "soup.find('td',attrs={'class' : 'size'}).text   # area of aprt"
      ],
      "execution_count": null,
      "outputs": [
        {
          "output_type": "execute_result",
          "data": {
            "application/vnd.google.colaboratory.intrinsic+json": {
              "type": "string"
            },
            "text/plain": [
              "'2929 '"
            ]
          },
          "metadata": {
            "tags": []
          },
          "execution_count": 9
        }
      ]
    },
    {
      "cell_type": "code",
      "metadata": {
        "colab": {
          "base_uri": "https://localhost:8080/",
          "height": 35
        },
        "id": "ox1MbR1sUetz",
        "outputId": "59a7b5aa-e39e-4e0a-a12c-a57a1345af1b"
      },
      "source": [
        "soup.find('td',attrs={'class' : 'val'}).text   # construction status"
      ],
      "execution_count": null,
      "outputs": [
        {
          "output_type": "execute_result",
          "data": {
            "application/vnd.google.colaboratory.intrinsic+json": {
              "type": "string"
            },
            "text/plain": [
              "'Under Construction'"
            ]
          },
          "metadata": {
            "tags": []
          },
          "execution_count": 10
        }
      ]
    },
    {
      "cell_type": "code",
      "metadata": {
        "colab": {
          "base_uri": "https://localhost:8080/",
          "height": 35
        },
        "id": "Yly2xZF7Uev5",
        "outputId": "c97a16e7-e5ff-484e-cec5-81e1cbeadad1"
      },
      "source": [
        "soup.find('td',attrs={'class':'lbl rate'}).text  # price per sqft"
      ],
      "execution_count": null,
      "outputs": [
        {
          "output_type": "execute_result",
          "data": {
            "application/vnd.google.colaboratory.intrinsic+json": {
              "type": "string"
            },
            "text/plain": [
              "'16,000 / sq ft'"
            ]
          },
          "metadata": {
            "tags": []
          },
          "execution_count": 11
        }
      ]
    },
    {
      "cell_type": "code",
      "metadata": {
        "colab": {
          "base_uri": "https://localhost:8080/"
        },
        "id": "5OQi_J5PUezV",
        "outputId": "306e463f-7a56-4c04-ecf8-59c5657132b1"
      },
      "source": [
        "own_info = soup.findAll('span',attrs={'class' : 'seller-type'}) \n",
        "owner = [i.text for i in own_info] \n",
        "owner                      \n",
        "len(own_info)"
      ],
      "execution_count": null,
      "outputs": [
        {
          "output_type": "execute_result",
          "data": {
            "text/plain": [
              "20"
            ]
          },
          "metadata": {
            "tags": []
          },
          "execution_count": 22
        }
      ]
    },
    {
      "cell_type": "code",
      "metadata": {
        "colab": {
          "base_uri": "https://localhost:8080/"
        },
        "id": "fdRHJpGSUe0x",
        "outputId": "adf9562e-79f6-4d8a-8b73-e0c43ddcda2a"
      },
      "source": [
        "bhk_info = soup.findAll('div',attrs={'class': 'title-line '})  #all bhk info in a page\n",
        "bhk = [i.strong.span.text.strip() for i in b_info]  \n",
        "bhk   "
      ],
      "execution_count": null,
      "outputs": [
        {
          "output_type": "execute_result",
          "data": {
            "text/plain": [
              "['4',\n",
              " '3',\n",
              " '2',\n",
              " '2',\n",
              " '2',\n",
              " '3',\n",
              " '3',\n",
              " '3',\n",
              " 'Residential Plot',\n",
              " '3',\n",
              " '4',\n",
              " '2',\n",
              " '2',\n",
              " '2',\n",
              " '3',\n",
              " '4',\n",
              " '3',\n",
              " '3',\n",
              " '5',\n",
              " '3']"
            ]
          },
          "metadata": {
            "tags": []
          },
          "execution_count": 23
        }
      ]
    },
    {
      "cell_type": "code",
      "metadata": {
        "colab": {
          "base_uri": "https://localhost:8080/"
        },
        "id": "cQ41sfjKUe4V",
        "outputId": "dbe97c80-d5e3-416a-85c7-d571c5cf4cc5"
      },
      "source": [
        "pr_info = soup.findAll('div',attrs={'data-type':'price-link'})  #all price of aprt in a page0\n",
        "price = [i.text.strip() for i in pr_info]\n",
        "price"
      ],
      "execution_count": null,
      "outputs": [
        {
          "output_type": "execute_result",
          "data": {
            "text/plain": [
              "['4.68 Cr',\n",
              " '1.6 Cr',\n",
              " '1.43 Cr',\n",
              " '56.98 L',\n",
              " '43.6 L',\n",
              " '65.82 L',\n",
              " '1.65 Cr',\n",
              " '1.41 Cr',\n",
              " '1.11 Cr',\n",
              " '95.35 L',\n",
              " '1.45 Cr',\n",
              " '56.02 L',\n",
              " '72.05 L',\n",
              " '61.57 L',\n",
              " '1.46 Cr',\n",
              " '2.9 Cr',\n",
              " '63.11 L',\n",
              " '96.22 L',\n",
              " '13.14 Cr',\n",
              " '97.11 L']"
            ]
          },
          "metadata": {
            "tags": []
          },
          "execution_count": 24
        }
      ]
    },
    {
      "cell_type": "code",
      "metadata": {
        "colab": {
          "base_uri": "https://localhost:8080/"
        },
        "id": "EeYzbzQ8XC9N",
        "outputId": "bcc10dcb-117c-412f-dfe8-a0ee0a0de996"
      },
      "source": [
        "loc_info = soup.findAll('span',attrs={'itemprop':'addressLocality'})   # all locality in a page\n",
        "locality = [i.text for i in loc_info]\n",
        "locality"
      ],
      "execution_count": null,
      "outputs": [
        {
          "output_type": "execute_result",
          "data": {
            "text/plain": [
              "['Narsingi',\n",
              " 'Manikonda',\n",
              " 'Shaikpet',\n",
              " 'Bachupally',\n",
              " 'Shamshabad',\n",
              " 'Tellapur',\n",
              " 'Attapur',\n",
              " 'Yapral',\n",
              " 'Sheriguda',\n",
              " 'Manikonda',\n",
              " 'Bachupally',\n",
              " 'Ghatkesar',\n",
              " 'Attapur',\n",
              " 'Kompally',\n",
              " 'Shankarpalli',\n",
              " 'Hitech City',\n",
              " 'Mallampet',\n",
              " 'Nanakramguda',\n",
              " 'Narsingi',\n",
              " 'Manikonda']"
            ]
          },
          "metadata": {
            "tags": []
          },
          "execution_count": 25
        }
      ]
    },
    {
      "cell_type": "code",
      "metadata": {
        "colab": {
          "base_uri": "https://localhost:8080/"
        },
        "id": "hsPlVS8qXC_F",
        "outputId": "18b1687d-8981-42c5-b6fd-9b3dfa63998c"
      },
      "source": [
        "ar_info = soup.findAll('td',attrs={'class' : 'size'})   #all area of aprt in a page\n",
        "area = [i.text.strip() for i in ar_info]\n",
        "area"
      ],
      "execution_count": null,
      "outputs": [
        {
          "output_type": "execute_result",
          "data": {
            "text/plain": [
              "['2929',\n",
              " '2810',\n",
              " '1495',\n",
              " '1295',\n",
              " '890',\n",
              " '1431',\n",
              " '2540',\n",
              " '2615',\n",
              " '3150',\n",
              " '1538',\n",
              " '2300',\n",
              " '1245',\n",
              " '1310',\n",
              " '1310',\n",
              " '3120',\n",
              " '3498',\n",
              " '1503',\n",
              " '1415',\n",
              " '8214',\n",
              " '1704']"
            ]
          },
          "metadata": {
            "tags": []
          },
          "execution_count": 26
        }
      ]
    },
    {
      "cell_type": "code",
      "metadata": {
        "colab": {
          "base_uri": "https://localhost:8080/"
        },
        "id": "gJ6XcuFJXDCN",
        "outputId": "34ed5151-1d86-4cd3-f16c-5806dcd9673d"
      },
      "source": [
        "con_st = soup.findAll('td',attrs={'class' : 'val'})   #all construction status\n",
        "con_status = [i.text for i in con_st]\n",
        "con_status"
      ],
      "execution_count": null,
      "outputs": [
        {
          "output_type": "execute_result",
          "data": {
            "text/plain": [
              "['Under Construction',\n",
              " 'Under Construction',\n",
              " 'Ready to move',\n",
              " 'Under Construction',\n",
              " 'Under Construction',\n",
              " 'Under Construction',\n",
              " 'Under Construction',\n",
              " 'Under Construction',\n",
              " 'New',\n",
              " 'Under Construction',\n",
              " 'Under Construction',\n",
              " 'Under Construction',\n",
              " 'Under Construction',\n",
              " 'Under Construction',\n",
              " 'Under Construction',\n",
              " 'Ready to move',\n",
              " 'Under Construction',\n",
              " 'Ready to move',\n",
              " 'Under Construction',\n",
              " 'Under Construction']"
            ]
          },
          "metadata": {
            "tags": []
          },
          "execution_count": 27
        }
      ]
    },
    {
      "cell_type": "code",
      "metadata": {
        "colab": {
          "base_uri": "https://localhost:8080/"
        },
        "id": "Ve8Br9AtXDFH",
        "outputId": "ff2589cc-05c9-4769-bceb-8a0f6ba32e96"
      },
      "source": [
        "pr_sqft = soup.findAll('td',attrs={'class':'lbl rate'})  # price per sqft\n",
        "price_sft = [i.text for i in pr_sqft]\n",
        "print(price_sft)\n",
        "print(len(price_sft))"
      ],
      "execution_count": null,
      "outputs": [
        {
          "output_type": "stream",
          "text": [
            "['16,000 / sq ft', '5,699 / sq ft', '9,565 / sq ft', '4,400 / sq ft', '4,899 / sq ft', '4,600 / sq ft', '6,501 / sq ft', '5,400 / sq ft', '3,555 / sq ft', '6,200 / sq ft', '6,304 / sq ft', '4,500 / sq ft', '5,500 / sq ft', '4,700 / sq ft', '4,700 / sq ft', '8,290 / sq ft', '4,199 / sq ft', '6,800 / sq ft', '16,000 / sq ft', '5,699 / sq ft']\n",
            "20\n"
          ],
          "name": "stdout"
        }
      ]
    },
    {
      "cell_type": "code",
      "metadata": {
        "colab": {
          "base_uri": "https://localhost:8080/",
          "height": 669
        },
        "id": "tcPeeCowZMwf",
        "outputId": "28f36562-78f9-4036-f9c4-47d338a39469"
      },
      "source": [
        "data = pd.DataFrame({'Owner_inf' : owner,\n",
        "              'Bhk_info' : bhk,\n",
        "              'Price' : price,\n",
        "              'Locality' : locality,\n",
        "              'Area_sqft' : area,\n",
        "              'Status' : con_status,\n",
        "              'Price_Per_sqft' : price_sft})\n",
        "data"
      ],
      "execution_count": null,
      "outputs": [
        {
          "output_type": "execute_result",
          "data": {
            "text/html": [
              "<div>\n",
              "<style scoped>\n",
              "    .dataframe tbody tr th:only-of-type {\n",
              "        vertical-align: middle;\n",
              "    }\n",
              "\n",
              "    .dataframe tbody tr th {\n",
              "        vertical-align: top;\n",
              "    }\n",
              "\n",
              "    .dataframe thead th {\n",
              "        text-align: right;\n",
              "    }\n",
              "</style>\n",
              "<table border=\"1\" class=\"dataframe\">\n",
              "  <thead>\n",
              "    <tr style=\"text-align: right;\">\n",
              "      <th></th>\n",
              "      <th>Owner_inf</th>\n",
              "      <th>Bhk_info</th>\n",
              "      <th>Price</th>\n",
              "      <th>Locality</th>\n",
              "      <th>Area_sqft</th>\n",
              "      <th>Status</th>\n",
              "      <th>Price_Per_sqft</th>\n",
              "    </tr>\n",
              "  </thead>\n",
              "  <tbody>\n",
              "    <tr>\n",
              "      <th>0</th>\n",
              "      <td>BUILDER</td>\n",
              "      <td>4</td>\n",
              "      <td>4.68 Cr</td>\n",
              "      <td>Narsingi</td>\n",
              "      <td>2929</td>\n",
              "      <td>Under Construction</td>\n",
              "      <td>16,000 / sq ft</td>\n",
              "    </tr>\n",
              "    <tr>\n",
              "      <th>1</th>\n",
              "      <td>BUILDER</td>\n",
              "      <td>3</td>\n",
              "      <td>1.6 Cr</td>\n",
              "      <td>Manikonda</td>\n",
              "      <td>2810</td>\n",
              "      <td>Under Construction</td>\n",
              "      <td>5,699 / sq ft</td>\n",
              "    </tr>\n",
              "    <tr>\n",
              "      <th>2</th>\n",
              "      <td>BUILDER</td>\n",
              "      <td>2</td>\n",
              "      <td>1.43 Cr</td>\n",
              "      <td>Shaikpet</td>\n",
              "      <td>1495</td>\n",
              "      <td>Ready to move</td>\n",
              "      <td>9,565 / sq ft</td>\n",
              "    </tr>\n",
              "    <tr>\n",
              "      <th>3</th>\n",
              "      <td>BUILDER</td>\n",
              "      <td>2</td>\n",
              "      <td>56.98 L</td>\n",
              "      <td>Bachupally</td>\n",
              "      <td>1295</td>\n",
              "      <td>Under Construction</td>\n",
              "      <td>4,400 / sq ft</td>\n",
              "    </tr>\n",
              "    <tr>\n",
              "      <th>4</th>\n",
              "      <td>BUILDER</td>\n",
              "      <td>2</td>\n",
              "      <td>43.6 L</td>\n",
              "      <td>Shamshabad</td>\n",
              "      <td>890</td>\n",
              "      <td>Under Construction</td>\n",
              "      <td>4,899 / sq ft</td>\n",
              "    </tr>\n",
              "    <tr>\n",
              "      <th>5</th>\n",
              "      <td>BUILDER</td>\n",
              "      <td>3</td>\n",
              "      <td>65.82 L</td>\n",
              "      <td>Tellapur</td>\n",
              "      <td>1431</td>\n",
              "      <td>Under Construction</td>\n",
              "      <td>4,600 / sq ft</td>\n",
              "    </tr>\n",
              "    <tr>\n",
              "      <th>6</th>\n",
              "      <td>BUILDER</td>\n",
              "      <td>3</td>\n",
              "      <td>1.65 Cr</td>\n",
              "      <td>Attapur</td>\n",
              "      <td>2540</td>\n",
              "      <td>Under Construction</td>\n",
              "      <td>6,501 / sq ft</td>\n",
              "    </tr>\n",
              "    <tr>\n",
              "      <th>7</th>\n",
              "      <td>BUILDER</td>\n",
              "      <td>3</td>\n",
              "      <td>1.41 Cr</td>\n",
              "      <td>Yapral</td>\n",
              "      <td>2615</td>\n",
              "      <td>Under Construction</td>\n",
              "      <td>5,400 / sq ft</td>\n",
              "    </tr>\n",
              "    <tr>\n",
              "      <th>8</th>\n",
              "      <td>BUILDER</td>\n",
              "      <td>Residential Plot</td>\n",
              "      <td>1.11 Cr</td>\n",
              "      <td>Sheriguda</td>\n",
              "      <td>3150</td>\n",
              "      <td>New</td>\n",
              "      <td>3,555 / sq ft</td>\n",
              "    </tr>\n",
              "    <tr>\n",
              "      <th>9</th>\n",
              "      <td>BUILDER</td>\n",
              "      <td>3</td>\n",
              "      <td>95.35 L</td>\n",
              "      <td>Manikonda</td>\n",
              "      <td>1538</td>\n",
              "      <td>Under Construction</td>\n",
              "      <td>6,200 / sq ft</td>\n",
              "    </tr>\n",
              "    <tr>\n",
              "      <th>10</th>\n",
              "      <td>BUILDER</td>\n",
              "      <td>4</td>\n",
              "      <td>1.45 Cr</td>\n",
              "      <td>Bachupally</td>\n",
              "      <td>2300</td>\n",
              "      <td>Under Construction</td>\n",
              "      <td>6,304 / sq ft</td>\n",
              "    </tr>\n",
              "    <tr>\n",
              "      <th>11</th>\n",
              "      <td>BUILDER</td>\n",
              "      <td>2</td>\n",
              "      <td>56.02 L</td>\n",
              "      <td>Ghatkesar</td>\n",
              "      <td>1245</td>\n",
              "      <td>Under Construction</td>\n",
              "      <td>4,500 / sq ft</td>\n",
              "    </tr>\n",
              "    <tr>\n",
              "      <th>12</th>\n",
              "      <td>BUILDER</td>\n",
              "      <td>2</td>\n",
              "      <td>72.05 L</td>\n",
              "      <td>Attapur</td>\n",
              "      <td>1310</td>\n",
              "      <td>Under Construction</td>\n",
              "      <td>5,500 / sq ft</td>\n",
              "    </tr>\n",
              "    <tr>\n",
              "      <th>13</th>\n",
              "      <td>BUILDER</td>\n",
              "      <td>2</td>\n",
              "      <td>61.57 L</td>\n",
              "      <td>Kompally</td>\n",
              "      <td>1310</td>\n",
              "      <td>Under Construction</td>\n",
              "      <td>4,700 / sq ft</td>\n",
              "    </tr>\n",
              "    <tr>\n",
              "      <th>14</th>\n",
              "      <td>BUILDER</td>\n",
              "      <td>3</td>\n",
              "      <td>1.46 Cr</td>\n",
              "      <td>Shankarpalli</td>\n",
              "      <td>3120</td>\n",
              "      <td>Under Construction</td>\n",
              "      <td>4,700 / sq ft</td>\n",
              "    </tr>\n",
              "    <tr>\n",
              "      <th>15</th>\n",
              "      <td>BUILDER</td>\n",
              "      <td>4</td>\n",
              "      <td>2.9 Cr</td>\n",
              "      <td>Hitech City</td>\n",
              "      <td>3498</td>\n",
              "      <td>Ready to move</td>\n",
              "      <td>8,290 / sq ft</td>\n",
              "    </tr>\n",
              "    <tr>\n",
              "      <th>16</th>\n",
              "      <td>BUILDER</td>\n",
              "      <td>3</td>\n",
              "      <td>63.11 L</td>\n",
              "      <td>Mallampet</td>\n",
              "      <td>1503</td>\n",
              "      <td>Under Construction</td>\n",
              "      <td>4,199 / sq ft</td>\n",
              "    </tr>\n",
              "    <tr>\n",
              "      <th>17</th>\n",
              "      <td>BUILDER</td>\n",
              "      <td>3</td>\n",
              "      <td>96.22 L</td>\n",
              "      <td>Nanakramguda</td>\n",
              "      <td>1415</td>\n",
              "      <td>Ready to move</td>\n",
              "      <td>6,800 / sq ft</td>\n",
              "    </tr>\n",
              "    <tr>\n",
              "      <th>18</th>\n",
              "      <td>BUILDER</td>\n",
              "      <td>5</td>\n",
              "      <td>13.14 Cr</td>\n",
              "      <td>Narsingi</td>\n",
              "      <td>8214</td>\n",
              "      <td>Under Construction</td>\n",
              "      <td>16,000 / sq ft</td>\n",
              "    </tr>\n",
              "    <tr>\n",
              "      <th>19</th>\n",
              "      <td>BUILDER</td>\n",
              "      <td>3</td>\n",
              "      <td>97.11 L</td>\n",
              "      <td>Manikonda</td>\n",
              "      <td>1704</td>\n",
              "      <td>Under Construction</td>\n",
              "      <td>5,699 / sq ft</td>\n",
              "    </tr>\n",
              "  </tbody>\n",
              "</table>\n",
              "</div>"
            ],
            "text/plain": [
              "   Owner_inf          Bhk_info  ...              Status  Price_Per_sqft\n",
              "0    BUILDER                 4  ...  Under Construction  16,000 / sq ft\n",
              "1    BUILDER                 3  ...  Under Construction   5,699 / sq ft\n",
              "2    BUILDER                 2  ...       Ready to move   9,565 / sq ft\n",
              "3    BUILDER                 2  ...  Under Construction   4,400 / sq ft\n",
              "4    BUILDER                 2  ...  Under Construction   4,899 / sq ft\n",
              "5    BUILDER                 3  ...  Under Construction   4,600 / sq ft\n",
              "6    BUILDER                 3  ...  Under Construction   6,501 / sq ft\n",
              "7    BUILDER                 3  ...  Under Construction   5,400 / sq ft\n",
              "8    BUILDER  Residential Plot  ...                 New   3,555 / sq ft\n",
              "9    BUILDER                 3  ...  Under Construction   6,200 / sq ft\n",
              "10   BUILDER                 4  ...  Under Construction   6,304 / sq ft\n",
              "11   BUILDER                 2  ...  Under Construction   4,500 / sq ft\n",
              "12   BUILDER                 2  ...  Under Construction   5,500 / sq ft\n",
              "13   BUILDER                 2  ...  Under Construction   4,700 / sq ft\n",
              "14   BUILDER                 3  ...  Under Construction   4,700 / sq ft\n",
              "15   BUILDER                 4  ...       Ready to move   8,290 / sq ft\n",
              "16   BUILDER                 3  ...  Under Construction   4,199 / sq ft\n",
              "17   BUILDER                 3  ...       Ready to move   6,800 / sq ft\n",
              "18   BUILDER                 5  ...  Under Construction  16,000 / sq ft\n",
              "19   BUILDER                 3  ...  Under Construction   5,699 / sq ft\n",
              "\n",
              "[20 rows x 7 columns]"
            ]
          },
          "metadata": {
            "tags": []
          },
          "execution_count": 30
        }
      ]
    },
    {
      "cell_type": "code",
      "metadata": {
        "id": "x3Yxd_VHZMyd"
      },
      "source": [
        "data.to_csv('aprtment_data.csv',index=False) #data will be saved to csv file"
      ],
      "execution_count": null,
      "outputs": []
    },
    {
      "cell_type": "code",
      "metadata": {
        "colab": {
          "base_uri": "https://localhost:8080/"
        },
        "id": "M_h9O5vxZM1Q",
        "outputId": "6ff6c768-8f33-4500-d700-9cb5f1ce1c99"
      },
      "source": [
        "import time\n",
        "import requests\n",
        "from IPython.display import clear_output\n",
        "\n",
        "base_url = 'https://www.makaan.com/hyderabad-residential-property/buy-property-in-hyderabad-city?page='\n",
        "\n",
        "ow = []   \n",
        "bhk = []\n",
        "p = []\n",
        "s = []\n",
        "loc = []\n",
        "st = []\n",
        "pps = []\n",
        "\n",
        "for i in range(1,11):\n",
        "  time.sleep(3)\n",
        "\n",
        "  print(f'Going to scrape data from {i} page')\n",
        "  clear_output(wait=True)\n",
        "  url = base_url+str(i)\n",
        "  req = requests.get(url)\n",
        "  soup = BeautifulSoup(req.text,'html')\n",
        "  #owner info\n",
        "  ow_info = soup.findAll('span',attrs={'class':'seller-type'})\n",
        "  for j in ow_info:\n",
        "    ow.append(j.text)\n",
        "  \n",
        "  #bhk info\n",
        "  bhk_info = soup.findAll('div',attrs={'class':'title-line'})\n",
        "  for j in bhk_info:\n",
        "    bhk.append(j.strong.span.text)\n",
        "\n",
        "  #price info\n",
        "  p_info = soup.findAll('div',attrs={'data-type':'price-link'})\n",
        "  for  j in p_info:\n",
        "    p.append(j.text)\n",
        "  \n",
        "  #size info\n",
        "  s_info = soup.findAll(\"td\",attrs={'class':'size'})\n",
        "  for j in s_info:\n",
        "    s.append(j.text)\n",
        "  \n",
        "  #location info\n",
        "  loc_info = soup.findAll('span',attrs={'itemprop':'addressLocality'})\n",
        "  for j in loc_info:\n",
        "    loc.append(j.text)\n",
        "  \n",
        "  #status info\n",
        "  st_info = soup.findAll('tr',attrs={'class':'hcol w44'})\n",
        "  for j in st_info:\n",
        "    st.append(j.text)\n",
        "\n",
        "  #price per sqft info\n",
        "  pps_info = soup.findAll('td',attrs={'class':'lbl rate'})\n",
        "  for j in pps_info:\n",
        "    pps.append(j.text)"
      ],
      "execution_count": null,
      "outputs": [
        {
          "output_type": "stream",
          "text": [
            "Going to scrape data from 10 page\n"
          ],
          "name": "stdout"
        }
      ]
    },
    {
      "cell_type": "code",
      "metadata": {
        "colab": {
          "base_uri": "https://localhost:8080/",
          "height": 419
        },
        "id": "_0_jvJaNZM4D",
        "outputId": "69b46bfa-cfb4-4b0c-98ae-79192c625687"
      },
      "source": [
        "data = pd.DataFrame({'Owner_inf' :ow ,\n",
        "              'Bhk_info' : bhk,\n",
        "              'Price' : p,\n",
        "              'Locality' : loc,\n",
        "              'Area_sqft' : s,\n",
        "              'Status' :st ,\n",
        "              'Price_Per_sqft' : pps})\n",
        "data"
      ],
      "execution_count": null,
      "outputs": [
        {
          "output_type": "execute_result",
          "data": {
            "text/html": [
              "<div>\n",
              "<style scoped>\n",
              "    .dataframe tbody tr th:only-of-type {\n",
              "        vertical-align: middle;\n",
              "    }\n",
              "\n",
              "    .dataframe tbody tr th {\n",
              "        vertical-align: top;\n",
              "    }\n",
              "\n",
              "    .dataframe thead th {\n",
              "        text-align: right;\n",
              "    }\n",
              "</style>\n",
              "<table border=\"1\" class=\"dataframe\">\n",
              "  <thead>\n",
              "    <tr style=\"text-align: right;\">\n",
              "      <th></th>\n",
              "      <th>Owner_inf</th>\n",
              "      <th>Bhk_info</th>\n",
              "      <th>Price</th>\n",
              "      <th>Locality</th>\n",
              "      <th>Area_sqft</th>\n",
              "      <th>Status</th>\n",
              "      <th>Price_Per_sqft</th>\n",
              "    </tr>\n",
              "  </thead>\n",
              "  <tbody>\n",
              "    <tr>\n",
              "      <th>0</th>\n",
              "      <td>BUILDER</td>\n",
              "      <td>4</td>\n",
              "      <td>4.68 Cr</td>\n",
              "      <td>Narsingi</td>\n",
              "      <td>2929</td>\n",
              "      <td>Under ConstructionConstruction Status</td>\n",
              "      <td>16,000 / sq ft</td>\n",
              "    </tr>\n",
              "    <tr>\n",
              "      <th>1</th>\n",
              "      <td>BUILDER</td>\n",
              "      <td>3</td>\n",
              "      <td>1.6 Cr</td>\n",
              "      <td>Manikonda</td>\n",
              "      <td>2810</td>\n",
              "      <td>Under ConstructionConstruction Status</td>\n",
              "      <td>5,699 / sq ft</td>\n",
              "    </tr>\n",
              "    <tr>\n",
              "      <th>2</th>\n",
              "      <td>BUILDER</td>\n",
              "      <td>2</td>\n",
              "      <td>1.43 Cr</td>\n",
              "      <td>Shaikpet</td>\n",
              "      <td>1495</td>\n",
              "      <td>Ready to moveConstruction Status</td>\n",
              "      <td>9,565 / sq ft</td>\n",
              "    </tr>\n",
              "    <tr>\n",
              "      <th>3</th>\n",
              "      <td>BUILDER</td>\n",
              "      <td>2</td>\n",
              "      <td>56.98 L</td>\n",
              "      <td>Bachupally</td>\n",
              "      <td>1295</td>\n",
              "      <td>Under ConstructionConstruction Status</td>\n",
              "      <td>4,400 / sq ft</td>\n",
              "    </tr>\n",
              "    <tr>\n",
              "      <th>4</th>\n",
              "      <td>BUILDER</td>\n",
              "      <td>2</td>\n",
              "      <td>43.6 L</td>\n",
              "      <td>Shamshabad</td>\n",
              "      <td>890</td>\n",
              "      <td>Under ConstructionConstruction Status</td>\n",
              "      <td>4,899 / sq ft</td>\n",
              "    </tr>\n",
              "    <tr>\n",
              "      <th>...</th>\n",
              "      <td>...</td>\n",
              "      <td>...</td>\n",
              "      <td>...</td>\n",
              "      <td>...</td>\n",
              "      <td>...</td>\n",
              "      <td>...</td>\n",
              "      <td>...</td>\n",
              "    </tr>\n",
              "    <tr>\n",
              "      <th>195</th>\n",
              "      <td>OWNER</td>\n",
              "      <td>2</td>\n",
              "      <td>38 L</td>\n",
              "      <td>Chandanagar Vill</td>\n",
              "      <td>1040</td>\n",
              "      <td>Under ConstructionConstruction Status</td>\n",
              "      <td>3,653 / sq ft</td>\n",
              "    </tr>\n",
              "    <tr>\n",
              "      <th>196</th>\n",
              "      <td>OWNER</td>\n",
              "      <td>2</td>\n",
              "      <td>38 L</td>\n",
              "      <td>Chandanagar Vill</td>\n",
              "      <td>1040</td>\n",
              "      <td>Under ConstructionConstruction Status</td>\n",
              "      <td>3,653 / sq ft</td>\n",
              "    </tr>\n",
              "    <tr>\n",
              "      <th>197</th>\n",
              "      <td>OWNER</td>\n",
              "      <td>2</td>\n",
              "      <td>38 L</td>\n",
              "      <td>Chandanagar Vill</td>\n",
              "      <td>1040</td>\n",
              "      <td>Under ConstructionConstruction Status</td>\n",
              "      <td>3,653 / sq ft</td>\n",
              "    </tr>\n",
              "    <tr>\n",
              "      <th>198</th>\n",
              "      <td>OWNER</td>\n",
              "      <td>2</td>\n",
              "      <td>38 L</td>\n",
              "      <td>Chandanagar Vill</td>\n",
              "      <td>1040</td>\n",
              "      <td>Under ConstructionConstruction Status</td>\n",
              "      <td>3,653 / sq ft</td>\n",
              "    </tr>\n",
              "    <tr>\n",
              "      <th>199</th>\n",
              "      <td>OWNER</td>\n",
              "      <td>2</td>\n",
              "      <td>38 L</td>\n",
              "      <td>Chandanagar Vill</td>\n",
              "      <td>1040</td>\n",
              "      <td>Under ConstructionConstruction Status</td>\n",
              "      <td>3,653 / sq ft</td>\n",
              "    </tr>\n",
              "  </tbody>\n",
              "</table>\n",
              "<p>200 rows × 7 columns</p>\n",
              "</div>"
            ],
            "text/plain": [
              "    Owner_inf Bhk_info  ...                                 Status  Price_Per_sqft\n",
              "0     BUILDER       4   ...  Under ConstructionConstruction Status  16,000 / sq ft\n",
              "1     BUILDER       3   ...  Under ConstructionConstruction Status   5,699 / sq ft\n",
              "2     BUILDER       2   ...       Ready to moveConstruction Status   9,565 / sq ft\n",
              "3     BUILDER       2   ...  Under ConstructionConstruction Status   4,400 / sq ft\n",
              "4     BUILDER       2   ...  Under ConstructionConstruction Status   4,899 / sq ft\n",
              "..        ...      ...  ...                                    ...             ...\n",
              "195     OWNER       2   ...  Under ConstructionConstruction Status   3,653 / sq ft\n",
              "196     OWNER       2   ...  Under ConstructionConstruction Status   3,653 / sq ft\n",
              "197     OWNER       2   ...  Under ConstructionConstruction Status   3,653 / sq ft\n",
              "198     OWNER       2   ...  Under ConstructionConstruction Status   3,653 / sq ft\n",
              "199     OWNER       2   ...  Under ConstructionConstruction Status   3,653 / sq ft\n",
              "\n",
              "[200 rows x 7 columns]"
            ]
          },
          "metadata": {
            "tags": []
          },
          "execution_count": 34
        }
      ]
    },
    {
      "cell_type": "code",
      "metadata": {
        "id": "K2OSUPWzacoC"
      },
      "source": [
        "data.to_csv('webscraped_data.csv',index=False)  # #data will be saved to csv file\n"
      ],
      "execution_count": null,
      "outputs": []
    }
  ]
}